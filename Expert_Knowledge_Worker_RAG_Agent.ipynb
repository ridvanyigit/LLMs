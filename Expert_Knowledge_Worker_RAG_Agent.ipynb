{
  "nbformat": 4,
  "nbformat_minor": 0,
  "metadata": {
    "colab": {
      "provenance": [],
      "authorship_tag": "ABX9TyP48Nntldk+Qu1SixJiVjTi",
      "include_colab_link": true
    },
    "kernelspec": {
      "name": "python3",
      "display_name": "Python 3"
    },
    "language_info": {
      "name": "python"
    }
  },
  "cells": [
    {
      "cell_type": "markdown",
      "metadata": {
        "id": "view-in-github",
        "colab_type": "text"
      },
      "source": [
        "<a href=\"https://colab.research.google.com/github/ridvanyigit/LLMs/blob/main/Expert_Knowledge_Worker_RAG_Agent.ipynb\" target=\"_parent\"><img src=\"https://colab.research.google.com/assets/colab-badge.svg\" alt=\"Open In Colab\"/></a>"
      ]
    },
    {
      "cell_type": "markdown",
      "source": [
        "## Expert Knowledge Worker\n",
        "\n",
        "### A question answering agent that is an expert knowledge worker\n",
        "### To be used by employees of Insurellm, an Insurance Tech company\n",
        "### The agent needs to be accurate and the solution should be low cost.\n",
        "\n",
        "This project will use RAG (Retrieval Augmented Generation) to ensure our question/answering assistant has high accuracy.\n",
        "\n",
        "This first implementation will use a simple, brute-force type of RAG.."
      ],
      "metadata": {
        "id": "toFKKAP63E3X"
      }
    },
    {
      "cell_type": "code",
      "execution_count": null,
      "metadata": {
        "id": "KsV1loTxyrIh"
      },
      "outputs": [],
      "source": [
        "# imports\n",
        "\n",
        "import os\n",
        "import glob\n",
        "from dotenv import load_dotenv\n",
        "import gradio as gr"
      ]
    },
    {
      "cell_type": "code",
      "source": [
        "# imports for langchain, plotly and Chroma\n",
        "\n",
        "from langchain.document_loaders import DirectoryLoader, TextLoader\n",
        "from langchain.text_splitter import CharacterTextSplitter\n",
        "from langchain.schema import Document\n",
        "from langchain_openai import OpenAIEmbeddings, ChatOpenAI\n",
        "from langchain_chroma import Chroma\n",
        "import matplotlib.pyplot as plt\n",
        "from sklearn.manifold import TSNE\n",
        "import numpy as np\n",
        "import plotly.graph_objects as go\n",
        "from langchain.memory import ConversationBufferMemory\n",
        "from langchain.chains import ConversationalRetrievalChain\n",
        "from langchain.embeddings import HuggingFaceEmbeddings"
      ],
      "metadata": {
        "id": "ihFiZiPh3CVJ"
      },
      "execution_count": null,
      "outputs": []
    },
    {
      "cell_type": "code",
      "source": [
        "MODEL = \"gpt-4o-mini\"\n",
        "db_name = \"vector_db\""
      ],
      "metadata": {
        "id": "aO9XV2QR3CYe"
      },
      "execution_count": null,
      "outputs": []
    },
    {
      "cell_type": "code",
      "source": [
        "# Load environment variables in a file called .env\n",
        "\n",
        "load_dotenv(override=True)\n",
        "os.environ['OPENAI_API_KEY'] = os.getenv('OPENAI_API_KEY', 'your-key-if-not-using-env')"
      ],
      "metadata": {
        "id": "EErHHzQW3Caz"
      },
      "execution_count": null,
      "outputs": []
    },
    {
      "cell_type": "code",
      "source": [
        "# Read in documents using LangChain's loaders\n",
        "# Take everything in all the sub-folders of our knowledgebase\n",
        "\n",
        "folders = glob.glob(\"knowledge-base/*\")\n",
        "\n",
        "def add_metadata(doc, doc_type):\n",
        "    doc.metadata[\"doc_type\"] = doc_type\n",
        "    return doc\n",
        "\n",
        "text_loader_kwargs = {'encoding': 'utf-8'}\n",
        "# text_loader_kwargs={'autodetect_encoding': True} # --> for PC Users\n",
        "\n",
        "documents = []\n",
        "for folder in folders:\n",
        "    doc_type = os.path.basename(folder)\n",
        "    loader = DirectoryLoader(folder, glob=\"**/*.md\", loader_cls=TextLoader, loader_kwargs=text_loader_kwargs)\n",
        "    folder_docs = loader.load()\n",
        "    documents.extend([add_metadata(doc, doc_type) for doc in folder_docs])\n",
        "\n",
        "text_splitter = CharacterTextSplitter(chunk_size=1000, chunk_overlap=200)\n",
        "chunks = text_splitter.split_documents(documents)\n",
        "\n",
        "print(f\"Total number of chunks: {len(chunks)}\")\n",
        "print(f\"Document types found: {set(doc.metadata['doc_type'] for doc in documents)}\")"
      ],
      "metadata": {
        "id": "3Dq0_E0Z3Cd_"
      },
      "execution_count": null,
      "outputs": []
    },
    {
      "cell_type": "code",
      "source": [
        "embeddings = OpenAIEmbeddings()\n",
        "\n",
        "# If you would rather use the free Vector Embeddings from HuggingFace sentence-transformers\n",
        "# Then replace embeddings = OpenAIEmbeddings()\n",
        "# with:\n",
        "# from langchain.embeddings import HuggingFaceEmbeddings\n",
        "# embeddings = HuggingFaceEmbeddings(model_name=\"sentence-transformers/all-MiniLM-L6-v2\")\n",
        "\n",
        "# Delete if already exists\n",
        "\n",
        "if os.path.exists(db_name):\n",
        "    Chroma(persist_directory=db_name, embedding_function=embeddings).delete_collection()\n",
        "\n",
        "# Create vectorstore\n",
        "\n",
        "vectorstore = Chroma.from_documents(documents=chunks, embedding=embeddings, persist_directory=db_name)\n",
        "print(f\"Vectorstore created with {vectorstore._collection.count()} documents\")"
      ],
      "metadata": {
        "id": "6DArYuj63CfR"
      },
      "execution_count": null,
      "outputs": []
    },
    {
      "cell_type": "code",
      "source": [
        "# Let's investigate the vectors\n",
        "\n",
        "collection = vectorstore._collection\n",
        "count = collection.count()\n",
        "\n",
        "sample_embedding = collection.get(limit=1, include=[\"embeddings\"])[\"embeddings\"][0]\n",
        "dimensions = len(sample_embedding)\n",
        "print(f\"There are {count:,} vectors with {dimensions:,} dimensions in the vector store\")"
      ],
      "metadata": {
        "id": "QVKtazUg3ChU"
      },
      "execution_count": null,
      "outputs": []
    },
    {
      "cell_type": "markdown",
      "source": [
        "## Visualizing the Vector Store"
      ],
      "metadata": {
        "id": "XiupVcqB4HxK"
      }
    },
    {
      "cell_type": "code",
      "source": [
        "result = collection.get(include=['embeddings', 'documents', 'metadatas'])\n",
        "vectors = np.array(result['embeddings'])\n",
        "documents = result['documents']\n",
        "metadatas = result['metadatas']\n",
        "doc_types = [metadata['doc_type'] for metadata in metadatas]\n",
        "colors = [['blue', 'green', 'red', 'orange'][['products', 'employees', 'contracts', 'company'].index(t)] for t in doc_types]"
      ],
      "metadata": {
        "id": "qdjQ09hy3CiY"
      },
      "execution_count": null,
      "outputs": []
    },
    {
      "cell_type": "code",
      "source": [
        "# Reduce the dimensionality of the vectors to 2D using t-SNE\n",
        "# (t-distributed stochastic neighbor embedding)\n",
        "\n",
        "tsne = TSNE(n_components=2, random_state=42)\n",
        "reduced_vectors = tsne.fit_transform(vectors)\n",
        "\n",
        "# Create the 2D scatter plot\n",
        "fig = go.Figure(data=[go.Scatter(\n",
        "    x=reduced_vectors[:, 0],\n",
        "    y=reduced_vectors[:, 1],\n",
        "    mode='markers',\n",
        "    marker=dict(size=5, color=colors, opacity=0.8),\n",
        "    text=[f\"Type: {t}<br>Text: {d[:100]}...\" for t, d in zip(doc_types, documents)],\n",
        "    hoverinfo='text'\n",
        ")])\n",
        "\n",
        "fig.update_layout(\n",
        "    title='2D Chroma Vector Store Visualization',\n",
        "    scene=dict(xaxis_title='x',yaxis_title='y'),\n",
        "    width=800,\n",
        "    height=600,\n",
        "    margin=dict(r=20, b=10, l=10, t=40)\n",
        ")\n",
        "\n",
        "fig.show()"
      ],
      "metadata": {
        "id": "rrsfAALZ3Cj6"
      },
      "execution_count": null,
      "outputs": []
    },
    {
      "cell_type": "code",
      "source": [
        "# Let's try 3D!\n",
        "\n",
        "tsne = TSNE(n_components=3, random_state=42)\n",
        "reduced_vectors = tsne.fit_transform(vectors)\n",
        "\n",
        "# Create the 3D scatter plot\n",
        "fig = go.Figure(data=[go.Scatter3d(\n",
        "    x=reduced_vectors[:, 0],\n",
        "    y=reduced_vectors[:, 1],\n",
        "    z=reduced_vectors[:, 2],\n",
        "    mode='markers',\n",
        "    marker=dict(size=5, color=colors, opacity=0.8),\n",
        "    text=[f\"Type: {t}<br>Text: {d[:100]}...\" for t, d in zip(doc_types, documents)],\n",
        "    hoverinfo='text'\n",
        ")])\n",
        "\n",
        "fig.update_layout(\n",
        "    title='3D Chroma Vector Store Visualization',\n",
        "    scene=dict(xaxis_title='x', yaxis_title='y', zaxis_title='z'),\n",
        "    width=900,\n",
        "    height=700,\n",
        "    margin=dict(r=20, b=10, l=10, t=40)\n",
        ")\n",
        "\n",
        "fig.show()"
      ],
      "metadata": {
        "id": "kpHdyk5-3ClA"
      },
      "execution_count": null,
      "outputs": []
    },
    {
      "cell_type": "markdown",
      "source": [
        "## Use LangChain to bring it all together"
      ],
      "metadata": {
        "id": "s6_cj7Be4cQT"
      }
    },
    {
      "cell_type": "code",
      "source": [
        "# create a new Chat with OpenAI\n",
        "llm = ChatOpenAI(temperature=0.7, model_name=MODEL)\n",
        "\n",
        "# Alternative - if you'd like to use Ollama locally, uncomment this line instead\n",
        "# llm = ChatOpenAI(temperature=0.7, model_name='llama3.2', base_url='http://localhost:11434/v1', api_key='ollama')\n",
        "\n",
        "# set up the conversation memory for the chat\n",
        "memory = ConversationBufferMemory(memory_key='chat_history', return_messages=True)\n",
        "\n",
        "# the retriever is an abstraction over the VectorStore that will be used during RAG\n",
        "retriever = vectorstore.as_retriever()\n",
        "\n",
        "# putting it together: set up the conversation chain with the GPT 3.5 LLM, the vector store and memory\n",
        "conversation_chain = ConversationalRetrievalChain.from_llm(llm=llm, retriever=retriever, memory=memory)"
      ],
      "metadata": {
        "id": "_tBg_1v84fAU"
      },
      "execution_count": null,
      "outputs": []
    },
    {
      "cell_type": "code",
      "source": [
        "# Let's try a simple question\n",
        "\n",
        "query = \"Please explain what Insurellm is in a couple of sentences\"\n",
        "result = conversation_chain.invoke({\"question\": query})\n",
        "print(result[\"answer\"])"
      ],
      "metadata": {
        "id": "V1NErauI4e9-"
      },
      "execution_count": null,
      "outputs": []
    },
    {
      "cell_type": "code",
      "source": [
        "# set up a new conversation memory for the chat\n",
        "memory = ConversationBufferMemory(memory_key='chat_history', return_messages=True)\n",
        "\n",
        "# putting it together: set up the conversation chain with the GPT 4o-mini LLM, the vector store and memory\n",
        "conversation_chain = ConversationalRetrievalChain.from_llm(llm=llm, retriever=retriever, memory=memory)"
      ],
      "metadata": {
        "id": "2mOtXiac4qVV"
      },
      "execution_count": null,
      "outputs": []
    },
    {
      "cell_type": "markdown",
      "source": [
        "## Gradio UI"
      ],
      "metadata": {
        "id": "AW9wI_il4wDi"
      }
    },
    {
      "cell_type": "code",
      "source": [
        "# Wrapping that in a function\n",
        "\n",
        "def chat(question, history):\n",
        "    result = conversation_chain.invoke({\"question\": question})\n",
        "    return result[\"answer\"]"
      ],
      "metadata": {
        "id": "q7R-5Qt-3Cm1"
      },
      "execution_count": null,
      "outputs": []
    },
    {
      "cell_type": "code",
      "source": [
        "# And in Gradio:\n",
        "\n",
        "view = gr.ChatInterface(chat, type=\"messages\").launch(inbrowser=True)"
      ],
      "metadata": {
        "id": "PKvN5Uzu42d4"
      },
      "execution_count": null,
      "outputs": []
    },
    {
      "cell_type": "code",
      "source": [
        "# Let's investigate what gets sent behind the scenes\n",
        "\n",
        "from langchain_core.callbacks import StdOutCallbackHandler\n",
        "\n",
        "llm = ChatOpenAI(temperature=0.7, model_name=MODEL)\n",
        "\n",
        "memory = ConversationBufferMemory(memory_key='chat_history', return_messages=True)\n",
        "\n",
        "retriever = vectorstore.as_retriever()\n",
        "\n",
        "conversation_chain = ConversationalRetrievalChain.from_llm(\n",
        "    llm=llm,\n",
        "    retriever=retriever,\n",
        "    memory=memory,\n",
        "    callbacks=[StdOutCallbackHandler()]\n",
        ")\n",
        "\n",
        "query = \"Who received the prestigious IIOTY award in 2023?\"\n",
        "result = conversation_chain.invoke({\"question\": query})\n",
        "answer = result[\"answer\"]\n",
        "print(\"\\nAnswer:\", answer)"
      ],
      "metadata": {
        "id": "c4WaqG9S42ag"
      },
      "execution_count": null,
      "outputs": []
    },
    {
      "cell_type": "code",
      "source": [
        "# create a new Chat with OpenAI\n",
        "llm = ChatOpenAI(temperature=0.7, model_name=MODEL)\n",
        "\n",
        "memory = ConversationBufferMemory(memory_key='chat_history', return_messages=True)\n",
        "\n",
        "retriever = vectorstore.as_retriever(search_kwargs={\"k\": 25})\n",
        "\n",
        "conversation_chain = ConversationalRetrievalChain.from_llm(llm=llm, retriever=retriever, memory=memory)"
      ],
      "metadata": {
        "id": "-GJT_67Z42Yb"
      },
      "execution_count": null,
      "outputs": []
    },
    {
      "cell_type": "code",
      "source": [
        "def chat(question, history):\n",
        "    result = conversation_chain.invoke({\"question\": question})\n",
        "    return result[\"answer\"]"
      ],
      "metadata": {
        "id": "-lzty_Hk4yOi"
      },
      "execution_count": null,
      "outputs": []
    },
    {
      "cell_type": "code",
      "source": [
        "view = gr.ChatInterface(chat, type=\"messages\").launch(inbrowser=True)"
      ],
      "metadata": {
        "id": "qOoWwQ5t499o"
      },
      "execution_count": null,
      "outputs": []
    },
    {
      "cell_type": "code",
      "source": [],
      "metadata": {
        "id": "2NaofIbA49uh"
      },
      "execution_count": null,
      "outputs": []
    }
  ]
}