{
  "nbformat": 4,
  "nbformat_minor": 0,
  "metadata": {
    "colab": {
      "provenance": [],
      "authorship_tag": "ABX9TyMzIBQI5DdcH7M1fET3Z8Zn",
      "include_colab_link": true
    },
    "kernelspec": {
      "name": "python3",
      "display_name": "Python 3"
    },
    "language_info": {
      "name": "python"
    }
  },
  "cells": [
    {
      "cell_type": "markdown",
      "metadata": {
        "id": "view-in-github",
        "colab_type": "text"
      },
      "source": [
        "<a href=\"https://colab.research.google.com/github/ridvanyigit/LLMs/blob/main/Untitled0.ipynb\" target=\"_parent\"><img src=\"https://colab.research.google.com/assets/colab-badge.svg\" alt=\"Open In Colab\"/></a>"
      ]
    },
    {
      "cell_type": "markdown",
      "source": [
        "# **1.SECTION**\n",
        "## Code Generator\n",
        "\n",
        "The requirement: use an Open Source model to generate high performance C++ code from Python code\n",
        "\n"
      ],
      "metadata": {
        "id": "MbwAMycooX9B"
      }
    },
    {
      "cell_type": "code",
      "execution_count": null,
      "metadata": {
        "id": "II6l_-5QoWrr"
      },
      "outputs": [],
      "source": [
        "# imports\n",
        "\n",
        "import os\n",
        "import io\n",
        "import sys\n",
        "import json\n",
        "import requests\n",
        "from dotenv import load_dotenv\n",
        "from openai import OpenAI\n",
        "import google.generativeai\n",
        "import anthropic\n",
        "from IPython.display import Markdown, display, update_display\n",
        "import gradio as gr\n",
        "import subprocess"
      ]
    },
    {
      "cell_type": "code",
      "source": [
        "# environment\n",
        "\n",
        "load_dotenv(override=True)\n",
        "os.environ['OPENAI_API_KEY'] = os.getenv('OPENAI_API_KEY')\n",
        "os.environ['ANTHROPIC_API_KEY'] = os.getenv('ANTHROPIC_API_KEY')\n",
        "os.environ['HF_TOKEN'] = os.getenv('HF_TOKEN')"
      ],
      "metadata": {
        "id": "XtA1CkWUor4E"
      },
      "execution_count": null,
      "outputs": []
    },
    {
      "cell_type": "code",
      "source": [
        "# initialize\n",
        "\n",
        "openai = OpenAI()\n",
        "claude = anthropic.Anthropic()\n",
        "#OPENAI_MODEL = \"gpt-4o\"\n",
        "#CLAUDE_MODEL = \"claude-3-5-sonnet-20240620\"\n",
        "\n",
        "OPENAI_MODEL = \"gpt-4o-mini\"\n",
        "CLAUDE_MODEL = \"claude-3-haiku-20240307\""
      ],
      "metadata": {
        "id": "HnQp3Rqfor1e"
      },
      "execution_count": null,
      "outputs": []
    },
    {
      "cell_type": "code",
      "source": [
        "system_message = \"You are an assistant that reimplements Python code in high performance C++ for an M1 Mac. \"\n",
        "system_message += \"Respond only with C++ code; use comments sparingly and do not provide any explanation other than occasional comments. \"\n",
        "system_message += \"The C++ response needs to produce an identical output in the fastest possible time. Keep implementations of random number generators identical so that results match exactly.\""
      ],
      "metadata": {
        "id": "TxaAO7ZforzX"
      },
      "execution_count": null,
      "outputs": []
    },
    {
      "cell_type": "code",
      "source": [
        "def user_prompt_for(python):\n",
        "    user_prompt = \"Rewrite this Python code in C++ with the fastest possible implementation that produces identical output in the least time. \"\n",
        "    user_prompt += \"Respond only with C++ code; do not explain your work other than a few comments. \"\n",
        "    user_prompt += \"Pay attention to number types to ensure no int overflows. \"\n",
        "    user_prompt += \"Remember to #include all necessary C++ packages such as iomanip. \"\n",
        "    user_prompt += \"Ensure #include <iomanip> is present if using setprecision. Do not use 1U << 32; use 1ULL << 32 or equivalent. Remove unnecessary m parameter if mod 2^32 is implicit in unsigned types.\"\n",
        "    user_prompt += \"Rewrite Python generators into C++ classes with a next() method. Do not use yield or std::next. \"\n",
        "    user_prompt += \"Ensure random numbers match exactly.\\n\\n\"\n",
        "    user_prompt += python\n",
        "    return user_prompt"
      ],
      "metadata": {
        "id": "NCOG1QaAorxj"
      },
      "execution_count": null,
      "outputs": []
    },
    {
      "cell_type": "code",
      "source": [
        "def messages_for(python):\n",
        "    return [\n",
        "        {\"role\": \"system\", \"content\": system_message},\n",
        "        {\"role\": \"user\", \"content\": user_prompt_for(python)}\n",
        "    ]"
      ],
      "metadata": {
        "id": "0amcR3MeorvA"
      },
      "execution_count": null,
      "outputs": []
    },
    {
      "cell_type": "code",
      "source": [
        "# write to a file called optimized.cpp\n",
        "\n",
        "def write_output(cpp):\n",
        "    code = cpp.replace(\"```cpp\",\"\").replace(\"```\",\"\")\n",
        "    with open(\"optimized.cpp\", \"w\") as f:\n",
        "        f.write(code)"
      ],
      "metadata": {
        "id": "rHluC4y6orsn"
      },
      "execution_count": null,
      "outputs": []
    },
    {
      "cell_type": "code",
      "source": [
        "def optimize_gpt(python):\n",
        "    stream = openai.chat.completions.create(model=OPENAI_MODEL, messages=messages_for(python), stream=True)\n",
        "    reply = \"\"\n",
        "    for chunk in stream:\n",
        "        fragment = chunk.choices[0].delta.content or \"\"\n",
        "        reply += fragment\n",
        "        print(fragment, end='', flush=True)\n",
        "    write_output(reply)"
      ],
      "metadata": {
        "id": "2CIhXM90orrC"
      },
      "execution_count": null,
      "outputs": []
    },
    {
      "cell_type": "code",
      "source": [
        "def optimize_claude(python):\n",
        "    result = claude.messages.stream(\n",
        "        model=CLAUDE_MODEL,\n",
        "        max_tokens=2000,\n",
        "        system=system_message,\n",
        "        messages=[{\"role\": \"user\", \"content\": user_prompt_for(python)}],\n",
        "    )\n",
        "    reply = \"\"\n",
        "    with result as stream:\n",
        "        for text in stream.text_stream:\n",
        "            reply += text\n",
        "            print(text, end=\"\", flush=True)\n",
        "    write_output(reply)"
      ],
      "metadata": {
        "id": "m_lo3zQGoro9"
      },
      "execution_count": null,
      "outputs": []
    },
    {
      "cell_type": "code",
      "source": [
        "pi = \"\"\"\n",
        "import time\n",
        "\n",
        "def calculate(iterations, param1, param2):\n",
        "    result = 1.0\n",
        "    for i in range(1, iterations+1):\n",
        "        j = i * param1 - param2\n",
        "        result -= (1/j)\n",
        "        j = i * param1 + param2\n",
        "        result += (1/j)\n",
        "    return result\n",
        "\n",
        "start_time = time.time()\n",
        "result = calculate(100_000_000, 4, 1) * 4\n",
        "end_time = time.time()\n",
        "\n",
        "print(f\"Result: {result:.12f}\")\n",
        "print(f\"Execution Time: {(end_time - start_time):.6f} seconds\")\n",
        "\"\"\""
      ],
      "metadata": {
        "id": "BVHceWxLormH"
      },
      "execution_count": null,
      "outputs": []
    },
    {
      "cell_type": "code",
      "source": [
        "exec(pi)"
      ],
      "metadata": {
        "id": "9as2XCoborcw"
      },
      "execution_count": null,
      "outputs": []
    },
    {
      "cell_type": "code",
      "source": [
        "optimize_gpt(pi)"
      ],
      "metadata": {
        "id": "Yf6jcUL0o8Wf"
      },
      "execution_count": null,
      "outputs": []
    },
    {
      "cell_type": "code",
      "source": [
        "exec(pi)"
      ],
      "metadata": {
        "id": "fE4l6GY8o8Uq"
      },
      "execution_count": null,
      "outputs": []
    },
    {
      "cell_type": "code",
      "source": [
        "!clang++ -O3 -std=c++17 -march=armv8.3-a -o optimized optimized.cpp\n",
        "!./optimized"
      ],
      "metadata": {
        "id": "IDnIGMmzo8TY"
      },
      "execution_count": null,
      "outputs": []
    },
    {
      "cell_type": "code",
      "source": [
        "optimize_claude(pi)"
      ],
      "metadata": {
        "id": "irSy6f_Co8R1"
      },
      "execution_count": null,
      "outputs": []
    },
    {
      "cell_type": "code",
      "source": [
        "!clang++ -O3 -std=c++17 -march=armv8.3-a -o optimized optimized.cpp\n",
        "!./optimized"
      ],
      "metadata": {
        "id": "rL1qCmOKo8Qf"
      },
      "execution_count": null,
      "outputs": []
    },
    {
      "cell_type": "code",
      "source": [
        "python_hard = \"\"\"# Be careful to support large number sizes\n",
        "\n",
        "def lcg(seed, a=1664525, c=1013904223, m=2**32):\n",
        "    value = seed\n",
        "    while True:\n",
        "        value = (a * value + c) % m\n",
        "        yield value\n",
        "\n",
        "def max_subarray_sum(n, seed, min_val, max_val):\n",
        "    lcg_gen = lcg(seed)\n",
        "    random_numbers = [next(lcg_gen) % (max_val - min_val + 1) + min_val for _ in range(n)]\n",
        "    max_sum = float('-inf')\n",
        "    for i in range(n):\n",
        "        current_sum = 0\n",
        "        for j in range(i, n):\n",
        "            current_sum += random_numbers[j]\n",
        "            if current_sum > max_sum:\n",
        "                max_sum = current_sum\n",
        "    return max_sum\n",
        "\n",
        "def total_max_subarray_sum(n, initial_seed, min_val, max_val):\n",
        "    total_sum = 0\n",
        "    lcg_gen = lcg(initial_seed)\n",
        "    for _ in range(20):\n",
        "        seed = next(lcg_gen)\n",
        "        total_sum += max_subarray_sum(n, seed, min_val, max_val)\n",
        "    return total_sum\n",
        "\n",
        "# Parameters\n",
        "n = 10000         # Number of random numbers\n",
        "initial_seed = 42 # Initial seed for the LCG\n",
        "min_val = -10     # Minimum value of random numbers\n",
        "max_val = 10      # Maximum value of random numbers\n",
        "\n",
        "# Timing the function\n",
        "import time\n",
        "start_time = time.time()\n",
        "result = total_max_subarray_sum(n, initial_seed, min_val, max_val)\n",
        "end_time = time.time()\n",
        "\n",
        "print(\"Total Maximum Subarray Sum (20 runs):\", result)\n",
        "print(\"Execution Time: {:.6f} seconds\".format(end_time - start_time))\n",
        "\"\"\""
      ],
      "metadata": {
        "id": "xeWKbiIBo8O8"
      },
      "execution_count": null,
      "outputs": []
    },
    {
      "cell_type": "code",
      "source": [
        "exec(python_hard)"
      ],
      "metadata": {
        "id": "WmoMFUx4o8NY"
      },
      "execution_count": null,
      "outputs": []
    },
    {
      "cell_type": "code",
      "source": [
        "optimize_gpt(python_hard)"
      ],
      "metadata": {
        "id": "dDwIFGEfo8LT"
      },
      "execution_count": null,
      "outputs": []
    },
    {
      "cell_type": "code",
      "source": [
        "!clang++ -O3 -std=c++17 -march=armv8.3-a -o optimized optimized.cpp\n",
        "!./optimized"
      ],
      "metadata": {
        "id": "g2o-g2mZo8IV"
      },
      "execution_count": null,
      "outputs": []
    },
    {
      "cell_type": "code",
      "source": [
        "optimize_claude(python_hard)"
      ],
      "metadata": {
        "id": "lme3lVNho8Bb"
      },
      "execution_count": null,
      "outputs": []
    },
    {
      "cell_type": "code",
      "source": [
        "!clang++ -O3 -std=c++17 -march=armv8.3-a -o optimized optimized.cpp\n",
        "!./optimized"
      ],
      "metadata": {
        "id": "bNYX2x5IpJXH"
      },
      "execution_count": null,
      "outputs": []
    },
    {
      "cell_type": "code",
      "source": [
        "def stream_gpt(python):\n",
        "    stream = openai.chat.completions.create(model=OPENAI_MODEL, messages=messages_for(python), stream=True)\n",
        "    reply = \"\"\n",
        "    for chunk in stream:\n",
        "        fragment = chunk.choices[0].delta.content or \"\"\n",
        "        reply += fragment\n",
        "        yield reply.replace('```cpp\\n','').replace('```','')"
      ],
      "metadata": {
        "id": "--rNibozpJWS"
      },
      "execution_count": null,
      "outputs": []
    },
    {
      "cell_type": "code",
      "source": [
        "def stream_claude(python):\n",
        "    result = claude.messages.stream(\n",
        "        model=CLAUDE_MODEL,\n",
        "        max_tokens=2000,\n",
        "        system=system_message,\n",
        "        messages=[{\"role\": \"user\", \"content\": user_prompt_for(python)}],\n",
        "    )\n",
        "    reply = \"\"\n",
        "    with result as stream:\n",
        "        for text in stream.text_stream:\n",
        "            reply += text\n",
        "            yield reply.replace('```cpp\\n','').replace('```','')"
      ],
      "metadata": {
        "id": "SOvQQ5XZpJTr"
      },
      "execution_count": null,
      "outputs": []
    },
    {
      "cell_type": "code",
      "source": [
        "def optimize(python, model):\n",
        "    if model==\"GPT\":\n",
        "        result = stream_gpt(python)\n",
        "    elif model==\"Claude\":\n",
        "        result = stream_claude(python)\n",
        "    else:\n",
        "        raise ValueError(\"Unknown model\")\n",
        "    for stream_so_far in result:\n",
        "        yield stream_so_far"
      ],
      "metadata": {
        "id": "CT7AaNb5pJR4"
      },
      "execution_count": null,
      "outputs": []
    },
    {
      "cell_type": "code",
      "source": [
        "with gr.Blocks() as ui:\n",
        "    with gr.Row():\n",
        "        python = gr.Textbox(label=\"Python code:\", lines=10, value=python_hard)\n",
        "        cpp = gr.Textbox(label=\"C++ code:\", lines=10)\n",
        "    with gr.Row():\n",
        "        model = gr.Dropdown([\"GPT\", \"Claude\"], label=\"Select model\", value=\"GPT\")\n",
        "        convert = gr.Button(\"Convert code\")\n",
        "\n",
        "    convert.click(optimize, inputs=[python, model], outputs=[cpp])\n",
        "\n",
        "ui.launch(inbrowser=True)"
      ],
      "metadata": {
        "id": "hx80YhjXpJRD"
      },
      "execution_count": null,
      "outputs": []
    },
    {
      "cell_type": "code",
      "source": [
        "def execute_python(code):\n",
        "    try:\n",
        "        output = io.StringIO()\n",
        "        sys.stdout = output\n",
        "        exec(code)\n",
        "    finally:\n",
        "        sys.stdout = sys.__stdout__\n",
        "    return output.getvalue()"
      ],
      "metadata": {
        "id": "lkt1A1mMpJON"
      },
      "execution_count": null,
      "outputs": []
    },
    {
      "cell_type": "code",
      "source": [
        "def execute_cpp(code):\n",
        "    write_output(code)\n",
        "    compiler_cmd = [\"clang++\", \"-O3\", \"-std=c++17\", \"-march=armv8.3-a\", \"-o\", \"optimized\", \"optimized.cpp\"]\n",
        "    try:\n",
        "        compile_result = subprocess.run(compiler_cmd, check=True, text=True, capture_output=True)\n",
        "        run_cmd = [\"./optimized\"]\n",
        "        run_result = subprocess.run(run_cmd, check=True, text=True, capture_output=True)\n",
        "        return run_result.stdout\n",
        "    except subprocess.CalledProcessError as e:\n",
        "        return f\"An error occurred:\\n{e.stderr}\""
      ],
      "metadata": {
        "id": "8G6aR38GpJMZ"
      },
      "execution_count": null,
      "outputs": []
    },
    {
      "cell_type": "code",
      "source": [
        "css = \"\"\"\n",
        ".python {background-color: #306998;}\n",
        ".cpp {background-color: #050;}\n",
        "\"\"\""
      ],
      "metadata": {
        "id": "xpD7nuW9pJLm"
      },
      "execution_count": null,
      "outputs": []
    },
    {
      "cell_type": "code",
      "source": [
        "with gr.Blocks(css=css) as ui:\n",
        "    gr.Markdown(\"## Convert code from Python to C++\")\n",
        "    with gr.Row():\n",
        "        python = gr.Textbox(label=\"Python code:\", value=python_hard, lines=10)\n",
        "        cpp = gr.Textbox(label=\"C++ code:\", lines=10)\n",
        "    with gr.Row():\n",
        "        model = gr.Dropdown([\"GPT\", \"Claude\"], label=\"Select model\", value=\"GPT\")\n",
        "    with gr.Row():\n",
        "        convert = gr.Button(\"Convert code\")\n",
        "    with gr.Row():\n",
        "        python_run = gr.Button(\"Run Python\")\n",
        "        cpp_run = gr.Button(\"Run C++\")\n",
        "    with gr.Row():\n",
        "        python_out = gr.TextArea(label=\"Python result:\", elem_classes=[\"python\"])\n",
        "        cpp_out = gr.TextArea(label=\"C++ result:\", elem_classes=[\"cpp\"])\n",
        "\n",
        "    convert.click(optimize, inputs=[python, model], outputs=[cpp])\n",
        "    python_run.click(execute_python, inputs=[python], outputs=[python_out])\n",
        "    cpp_run.click(execute_cpp, inputs=[cpp], outputs=[cpp_out])\n",
        "\n",
        "ui.launch(inbrowser=True)"
      ],
      "metadata": {
        "id": "_I5duhK0pJJk"
      },
      "execution_count": null,
      "outputs": []
    },
    {
      "cell_type": "code",
      "source": [
        "from huggingface_hub import login, InferenceClient\n",
        "from transformers import AutoTokenizer"
      ],
      "metadata": {
        "id": "yHS-36s0pJIg"
      },
      "execution_count": null,
      "outputs": []
    },
    {
      "cell_type": "code",
      "source": [
        "hf_token = os.environ['HF_TOKEN']\n",
        "login(hf_token, add_to_git_credential=True)"
      ],
      "metadata": {
        "id": "MI8DLvO6pXiT"
      },
      "execution_count": null,
      "outputs": []
    },
    {
      "cell_type": "code",
      "source": [
        "code_qwen = \"Qwen/CodeQwen1.5-7B-Chat\"\n",
        "code_gemma = \"google/codegemma-7b-it\"\n",
        "CODE_QWEN_URL = \"https://h1vdol7jxhje3mpn.us-east-1.aws.endpoints.huggingface.cloud\"\n",
        "CODE_GEMMA_URL = \"https://c5hggiyqachmgnqg.us-east-1.aws.endpoints.huggingface.cloud\""
      ],
      "metadata": {
        "id": "78987j-BpXhk"
      },
      "execution_count": null,
      "outputs": []
    },
    {
      "cell_type": "code",
      "source": [
        "tokenizer = AutoTokenizer.from_pretrained(code_qwen)\n",
        "messages = messages_for(pi)\n",
        "text = tokenizer.apply_chat_template(messages, tokenize=False, add_generation_prompt=True)"
      ],
      "metadata": {
        "id": "d4YF0cM3pXfx"
      },
      "execution_count": null,
      "outputs": []
    },
    {
      "cell_type": "code",
      "source": [
        "print(text)"
      ],
      "metadata": {
        "id": "4_y4QacapXe-"
      },
      "execution_count": null,
      "outputs": []
    },
    {
      "cell_type": "code",
      "source": [
        "client = InferenceClient(CODE_QWEN_URL, token=hf_token)\n",
        "stream = client.text_generation(text, stream=True, details=True, max_new_tokens=3000)\n",
        "for r in stream:\n",
        "    print(r.token.text, end = \"\")"
      ],
      "metadata": {
        "id": "XaSZ6Re0pXcp"
      },
      "execution_count": null,
      "outputs": []
    },
    {
      "cell_type": "code",
      "source": [
        "def stream_code_qwen(python):\n",
        "    tokenizer = AutoTokenizer.from_pretrained(code_qwen)\n",
        "    messages = messages_for(python)\n",
        "    text = tokenizer.apply_chat_template(messages, tokenize=False, add_generation_prompt=True)\n",
        "    client = InferenceClient(CODE_QWEN_URL, token=hf_token)\n",
        "    stream = client.text_generation(text, stream=True, details=True, max_new_tokens=3000)\n",
        "    result = \"\"\n",
        "    for r in stream:\n",
        "        result += r.token.text\n",
        "        yield result"
      ],
      "metadata": {
        "id": "8Pw7aqUupXb1"
      },
      "execution_count": null,
      "outputs": []
    },
    {
      "cell_type": "code",
      "source": [
        "def optimize(python, model):\n",
        "    if model==\"GPT\":\n",
        "        result = stream_gpt(python)\n",
        "    elif model==\"Claude\":\n",
        "        result = stream_claude(python)\n",
        "    elif model==\"CodeQwen\":\n",
        "        result = stream_code_qwen(python)\n",
        "    else:\n",
        "        raise ValueError(\"Unknown model\")\n",
        "    for stream_so_far in result:\n",
        "        yield stream_so_far"
      ],
      "metadata": {
        "id": "lEPhcYIPpXZw"
      },
      "execution_count": null,
      "outputs": []
    },
    {
      "cell_type": "markdown",
      "source": [
        "# **2.SECTION**\n",
        "\n",
        "You can now select which Python porgram to run, and a compiler is automatically selected that will work on PC, Windows and Mac."
      ],
      "metadata": {
        "id": "WAzXeWsop0MQ"
      }
    },
    {
      "cell_type": "code",
      "source": [
        "def select_sample_program(sample_program):\n",
        "    if sample_program==\"pi\":\n",
        "        return pi\n",
        "    elif sample_program==\"python_hard\":\n",
        "        return python_hard\n",
        "    else:\n",
        "        return \"Type your Python program here\""
      ],
      "metadata": {
        "id": "7ymdogOhpXYt"
      },
      "execution_count": null,
      "outputs": []
    },
    {
      "cell_type": "code",
      "source": [
        "import platform\n",
        "\n",
        "VISUAL_STUDIO_2022_TOOLS = \"C:\\\\Program Files\\\\Microsoft Visual Studio\\\\2022\\\\Community\\\\Common7\\Tools\\\\VsDevCmd.bat\"\n",
        "VISUAL_STUDIO_2019_TOOLS = \"C:\\\\Program Files (x86)\\\\Microsoft Visual Studio\\\\2019\\\\BuildTools\\\\Common7\\\\Tools\\\\VsDevCmd.bat\"\n",
        "\n",
        "simple_cpp = \"\"\"\n",
        "#include <iostream>\n",
        "\n",
        "int main() {\n",
        "    std::cout << \"Hello\";\n",
        "    return 0;\n",
        "}\n",
        "\"\"\"\n",
        "\n",
        "def run_cmd(command_to_run):\n",
        "    try:\n",
        "        run_result = subprocess.run(command_to_run, check=True, text=True, capture_output=True)\n",
        "        return run_result.stdout if run_result.stdout else \"SUCCESS\"\n",
        "    except:\n",
        "        return \"\"\n",
        "\n",
        "def c_compiler_cmd(filename_base):\n",
        "    my_platform = platform.system()\n",
        "    my_compiler = []\n",
        "\n",
        "    try:\n",
        "        with open(\"simple.cpp\", \"w\") as f:\n",
        "            f.write(simple_cpp)\n",
        "\n",
        "        if my_platform == \"Windows\":\n",
        "            if os.path.isfile(VISUAL_STUDIO_2022_TOOLS):\n",
        "                if os.path.isfile(\"./simple.exe\"):\n",
        "                    os.remove(\"./simple.exe\")\n",
        "                compile_cmd = [\"cmd\", \"/c\", VISUAL_STUDIO_2022_TOOLS, \"&\", \"cl\", \"simple.cpp\"]\n",
        "                if run_cmd(compile_cmd):\n",
        "                    if run_cmd([\"./simple.exe\"]) == \"Hello\":\n",
        "                        my_compiler = [\"Windows\", \"Visual Studio 2022\", [\"cmd\", \"/c\", VISUAL_STUDIO_2022_TOOLS, \"&\", \"cl\", f\"{filename_base}.cpp\"]]\n",
        "\n",
        "            if not my_compiler:\n",
        "                if os.path.isfile(VISUAL_STUDIO_2019_TOOLS):\n",
        "                    if os.path.isfile(\"./simple.exe\"):\n",
        "                        os.remove(\"./simple.exe\")\n",
        "                    compile_cmd = [\"cmd\", \"/c\", VISUAL_STUDIO_2019_TOOLS, \"&\", \"cl\", \"simple.cpp\"]\n",
        "                    if run_cmd(compile_cmd):\n",
        "                        if run_cmd([\"./simple.exe\"]) == \"Hello\":\n",
        "                            my_compiler = [\"Windows\", \"Visual Studio 2019\", [\"cmd\", \"/c\", VISUAL_STUDIO_2019_TOOLS, \"&\", \"cl\", f\"{filename_base}.cpp\"]]\n",
        "\n",
        "            if not my_compiler:\n",
        "                my_compiler=[my_platform, \"Unavailable\", []]\n",
        "\n",
        "        elif my_platform == \"Linux\":\n",
        "            if os.path.isfile(\"./simple\"):\n",
        "                os.remove(\"./simple\")\n",
        "            compile_cmd = [\"g++\", \"simple.cpp\", \"-o\", \"simple\"]\n",
        "            if run_cmd(compile_cmd):\n",
        "                if run_cmd([\"./simple\"]) == \"Hello\":\n",
        "                    my_compiler = [\"Linux\", \"GCC (g++)\", [\"g++\", f\"{filename_base}.cpp\", \"-o\", f\"{filename_base}\" ]]\n",
        "\n",
        "            if not my_compiler:\n",
        "                if os.path.isfile(\"./simple\"):\n",
        "                    os.remove(\"./simple\")\n",
        "                compile_cmd = [\"clang++\", \"simple.cpp\", \"-o\", \"simple\"]\n",
        "                if run_cmd(compile_cmd):\n",
        "                    if run_cmd([\"./simple\"]) == \"Hello\":\n",
        "                        my_compiler = [\"Linux\", \"Clang++\", [\"clang++\", f\"{filename_base}.cpp\", \"-o\", f\"{filename_base}\"]]\n",
        "\n",
        "            if not my_compiler:\n",
        "                my_compiler=[my_platform, \"Unavailable\", []]\n",
        "\n",
        "        elif my_platform == \"Darwin\":\n",
        "            if os.path.isfile(\"./simple\"):\n",
        "                os.remove(\"./simple\")\n",
        "            compile_cmd = [\"clang++\", \"-Ofast\", \"-std=c++17\", \"-march=armv8.5-a\", \"-mtune=apple-m1\", \"-mcpu=apple-m1\", \"-o\", \"simple\", \"simple.cpp\"]\n",
        "            if run_cmd(compile_cmd):\n",
        "                if run_cmd([\"./simple\"]) == \"Hello\":\n",
        "                    my_compiler = [\"Macintosh\", \"Clang++\", [\"clang++\", \"-Ofast\", \"-std=c++17\", \"-march=armv8.5-a\", \"-mtune=apple-m1\", \"-mcpu=apple-m1\", \"-o\", f\"{filename_base}\", f\"{filename_base}.cpp\"]]\n",
        "\n",
        "            if not my_compiler:\n",
        "                my_compiler=[my_platform, \"Unavailable\", []]\n",
        "    except:\n",
        "        my_compiler=[my_platform, \"Unavailable\", []]\n",
        "\n",
        "    if my_compiler:\n",
        "        return my_compiler\n",
        "    else:\n",
        "        return [\"Unknown\", \"Unavailable\", []]\n"
      ],
      "metadata": {
        "id": "14rnJNKOpXWX"
      },
      "execution_count": null,
      "outputs": []
    },
    {
      "cell_type": "code",
      "source": [
        "compiler_cmd = c_compiler_cmd(\"optimized\")\n",
        "\n",
        "with gr.Blocks(css=css) as ui:\n",
        "    gr.Markdown(\"## Convert code from Python to C++\")\n",
        "    with gr.Row():\n",
        "        python = gr.Textbox(label=\"Python code:\", value=python_hard, lines=10)\n",
        "        cpp = gr.Textbox(label=\"C++ code:\", lines=10)\n",
        "    with gr.Row():\n",
        "        with gr.Column():\n",
        "            sample_program = gr.Radio([\"pi\", \"python_hard\"], label=\"Sample program\", value=\"python_hard\")\n",
        "            model = gr.Dropdown([\"GPT\", \"Claude\", \"CodeQwen\"], label=\"Select model\", value=\"GPT\")\n",
        "        with gr.Column():\n",
        "            architecture = gr.Radio([compiler_cmd[0]], label=\"Architecture\", interactive=False, value=compiler_cmd[0])\n",
        "            compiler = gr.Radio([compiler_cmd[1]], label=\"Compiler\", interactive=False, value=compiler_cmd[1])\n",
        "    with gr.Row():\n",
        "        convert = gr.Button(\"Convert code\")\n",
        "    with gr.Row():\n",
        "        python_run = gr.Button(\"Run Python\")\n",
        "        if not compiler_cmd[1] == \"Unavailable\":\n",
        "            cpp_run = gr.Button(\"Run C++\")\n",
        "        else:\n",
        "            cpp_run = gr.Button(\"No compiler to run C++\", interactive=False)\n",
        "    with gr.Row():\n",
        "        python_out = gr.TextArea(label=\"Python result:\", elem_classes=[\"python\"])\n",
        "        cpp_out = gr.TextArea(label=\"C++ result:\", elem_classes=[\"cpp\"])\n",
        "\n",
        "    sample_program.change(select_sample_program, inputs=[sample_program], outputs=[python])\n",
        "    convert.click(optimize, inputs=[python, model], outputs=[cpp])\n",
        "    python_run.click(execute_python, inputs=[python], outputs=[python_out])\n",
        "    cpp_run.click(execute_cpp, inputs=[cpp], outputs=[cpp_out])\n",
        "\n",
        "ui.launch(inbrowser=True)"
      ],
      "metadata": {
        "id": "vQsmUxF5pXU3"
      },
      "execution_count": null,
      "outputs": []
    },
    {
      "cell_type": "code",
      "source": [],
      "metadata": {
        "id": "bdmKn5Zmp-nU"
      },
      "execution_count": null,
      "outputs": []
    }
  ]
}
